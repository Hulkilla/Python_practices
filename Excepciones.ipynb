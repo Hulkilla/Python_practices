{
  "nbformat": 4,
  "nbformat_minor": 0,
  "metadata": {
    "colab": {
      "provenance": [],
      "authorship_tag": "ABX9TyOP4B/fAYKrJdiKiuZ3JfWX",
      "include_colab_link": true
    },
    "kernelspec": {
      "name": "python3",
      "display_name": "Python 3"
    },
    "language_info": {
      "name": "python"
    }
  },
  "cells": [
    {
      "cell_type": "markdown",
      "metadata": {
        "id": "view-in-github",
        "colab_type": "text"
      },
      "source": [
        "<a href=\"https://colab.research.google.com/github/Hulkilla/Python_practices/blob/main/Excepciones.ipynb\" target=\"_parent\"><img src=\"https://colab.research.google.com/assets/colab-badge.svg\" alt=\"Open In Colab\"/></a>"
      ]
    },
    {
      "cell_type": "markdown",
      "source": [
        "Ejemplo 1"
      ],
      "metadata": {
        "id": "Qptr7vssGVHw"
      }
    },
    {
      "cell_type": "code",
      "execution_count": 2,
      "metadata": {
        "colab": {
          "base_uri": "https://localhost:8080/",
          "height": 418
        },
        "id": "r7_mgd_M-cOj",
        "outputId": "c6def1bf-0238-4f04-d3a6-2221115e4137"
      },
      "outputs": [
        {
          "name": "stdout",
          "output_type": "stream",
          "text": [
            "Introduce el primer número: 7\n",
            "Introduce el segundo número: 0\n",
            "Introduce la operación a realizar (suma,resta,multiplica,divide): divide\n"
          ]
        },
        {
          "output_type": "error",
          "ename": "ZeroDivisionError",
          "evalue": "division by zero",
          "traceback": [
            "\u001b[0;31m---------------------------------------------------------------------------\u001b[0m",
            "\u001b[0;31mZeroDivisionError\u001b[0m                         Traceback (most recent call last)",
            "\u001b[0;32m<ipython-input-2-e4eb525a0b9d>\u001b[0m in \u001b[0;36m<cell line: 20>\u001b[0;34m()\u001b[0m\n\u001b[1;32m     28\u001b[0m \u001b[0;34m\u001b[0m\u001b[0m\n\u001b[1;32m     29\u001b[0m \u001b[0;32melif\u001b[0m \u001b[0moperacion\u001b[0m\u001b[0;34m==\u001b[0m\u001b[0;34m\"divide\"\u001b[0m\u001b[0;34m:\u001b[0m\u001b[0;34m\u001b[0m\u001b[0;34m\u001b[0m\u001b[0m\n\u001b[0;32m---> 30\u001b[0;31m         \u001b[0mprint\u001b[0m\u001b[0;34m(\u001b[0m\u001b[0mdivide\u001b[0m\u001b[0;34m(\u001b[0m\u001b[0mop1\u001b[0m\u001b[0;34m,\u001b[0m\u001b[0mop2\u001b[0m\u001b[0;34m)\u001b[0m\u001b[0;34m)\u001b[0m\u001b[0;34m\u001b[0m\u001b[0;34m\u001b[0m\u001b[0m\n\u001b[0m\u001b[1;32m     31\u001b[0m \u001b[0;34m\u001b[0m\u001b[0m\n\u001b[1;32m     32\u001b[0m \u001b[0;32melse\u001b[0m\u001b[0;34m:\u001b[0m\u001b[0;34m\u001b[0m\u001b[0;34m\u001b[0m\u001b[0m\n",
            "\u001b[0;32m<ipython-input-2-e4eb525a0b9d>\u001b[0m in \u001b[0;36mdivide\u001b[0;34m(num1, num2)\u001b[0m\n\u001b[1;32m      9\u001b[0m \u001b[0;34m\u001b[0m\u001b[0m\n\u001b[1;32m     10\u001b[0m \u001b[0;32mdef\u001b[0m \u001b[0mdivide\u001b[0m\u001b[0;34m(\u001b[0m\u001b[0mnum1\u001b[0m\u001b[0;34m,\u001b[0m\u001b[0mnum2\u001b[0m\u001b[0;34m)\u001b[0m\u001b[0;34m:\u001b[0m\u001b[0;34m\u001b[0m\u001b[0;34m\u001b[0m\u001b[0m\n\u001b[0;32m---> 11\u001b[0;31m         \u001b[0;32mreturn\u001b[0m \u001b[0mnum1\u001b[0m\u001b[0;34m/\u001b[0m\u001b[0mnum2\u001b[0m\u001b[0;34m\u001b[0m\u001b[0;34m\u001b[0m\u001b[0m\n\u001b[0m\u001b[1;32m     12\u001b[0m \u001b[0;34m\u001b[0m\u001b[0m\n\u001b[1;32m     13\u001b[0m \u001b[0;34m\u001b[0m\u001b[0m\n",
            "\u001b[0;31mZeroDivisionError\u001b[0m: division by zero"
          ]
        }
      ],
      "source": [
        "def suma(num1, num2):\n",
        "\treturn num1+num2\n",
        "\n",
        "def resta(num1, num2):\n",
        "\treturn num1-num2\n",
        "\n",
        "def multiplica(num1, num2):\n",
        "\treturn num1*num2\n",
        "\n",
        "def divide(num1,num2):\n",
        "\treturn num1/num2\n",
        "\n",
        "\n",
        "op1=(int(input(\"Introduce el primer número: \")))\n",
        "\n",
        "op2=(int(input(\"Introduce el segundo número: \")))\n",
        "\n",
        "operacion=input(\"Introduce la operación a realizar (suma,resta,multiplica,divide): \")\n",
        "\n",
        "if operacion==\"suma\":\n",
        "\tprint(suma(op1,op2))\n",
        "\n",
        "elif operacion==\"resta\":\n",
        "\tprint(resta(op1,op2))\n",
        "\n",
        "elif operacion==\"multiplica\":\n",
        "\tprint(multiplica(op1,op2))\n",
        "\n",
        "elif operacion==\"divide\":\n",
        "\tprint(divide(op1,op2))\n",
        "\n",
        "else:\n",
        "\tprint (\"Operación no contemplada\")\n",
        "\n",
        "\n",
        "print(\"Operación ejecutada. Continuación de ejecución del programa \")"
      ]
    },
    {
      "cell_type": "markdown",
      "source": [
        "En el programa anterior si se introduce en el segundo numero un 0 y se quiere dividir (por ejemplo), nos salta un error porque no se puede dividir por 0.\n",
        "Otro error sería si en vez de un número se introduce texto-\n",
        "\n",
        "Error que sale si se intenta dividir por cero:\n",
        "\n",
        "ZeroDivisionError                         Traceback (most recent call last)\n",
        "\n",
        "<ipython-input-2-e4eb525a0b9d> in <cell line: 20>()\n",
        "\n",
        "     28\n",
        "     29 elif operacion==\"divide\":\n",
        "     30         print(divide(op1,op2)) <---- Línea de error\n",
        "     31\n",
        "     32 else:\n",
        "\n",
        "\n",
        "<ipython-input-2-e4eb525a0b9d> in divide(num1, num2)\n",
        "\n",
        "      9\n",
        "     10 def divide(num1,num2):\n",
        "     11         return num1/num2 <---- Línea de error\n",
        "     12\n",
        "     13\n",
        "\n",
        "ZeroDivisionError: division by zero"
      ],
      "metadata": {
        "id": "JilXtbn2CA7l"
      }
    },
    {
      "cell_type": "code",
      "source": [
        "from re import T\n",
        "def suma(num1, num2):\n",
        "\treturn num1+num2\n",
        "\n",
        "def resta(num1, num2):\n",
        "\treturn num1-num2\n",
        "\n",
        "def multiplica(num1, num2):\n",
        "\treturn num1*num2\n",
        "\n",
        "def divide(num1,num2):\n",
        "\n",
        "  try:\n",
        "    return num1/num2\n",
        "  except ZeroDivisionError:\n",
        "    print(\"No se puede dividir entre 0\")\n",
        "    return \"Operación errónea\"\n",
        "\n",
        "while True:\n",
        "  try:\n",
        "    op1=(int(input(\"Introduce el primer número: \")))\n",
        "    op2=(int(input(\"Introduce el segundo número: \")))\n",
        "    break # Ojo que si no ponemos el break, no termina nunca el bucle\n",
        "  except ValueError:\n",
        "    print(\"Los valores introducidos no son correctos. Inténtalo de nuevo\")\n",
        "\n",
        "\n",
        "\n",
        "operacion=input(\"Introduce la operación a realizar (suma,resta,multiplica,divide): \")\n",
        "\n",
        "if operacion==\"suma\":\n",
        "\tprint(suma(op1,op2))\n",
        "\n",
        "elif operacion==\"resta\":\n",
        "\tprint(resta(op1,op2))\n",
        "\n",
        "elif operacion==\"multiplica\":\n",
        "\tprint(multiplica(op1,op2))\n",
        "\n",
        "elif operacion==\"divide\":\n",
        "\tprint(divide(op1,op2))\n",
        "\n",
        "else:\n",
        "\tprint (\"Operación no contemplada\")\n",
        "\n",
        "\n",
        "print(\"Operación ejecutada. Continuación de ejecución del programa \")"
      ],
      "metadata": {
        "colab": {
          "base_uri": "https://localhost:8080/"
        },
        "id": "mLbmpCA_A4Tv",
        "outputId": "1e177677-b362-4b72-fbc6-bb0b483f3dd1"
      },
      "execution_count": 8,
      "outputs": [
        {
          "output_type": "stream",
          "name": "stdout",
          "text": [
            "Introduce el primer número: 5\n",
            "Introduce el segundo número: dyh\n",
            "Los valores introducidos no son correctos. No se permite texto.\n",
            "Introduce el primer número: 6\n",
            "Introduce el segundo número: 5\n",
            "Introduce la operación a realizar (suma,resta,multiplica,divide): divide\n",
            "1.2\n",
            "Operación ejecutada. Continuación de ejecución del programa \n"
          ]
        }
      ]
    },
    {
      "cell_type": "markdown",
      "source": [
        "Ejemplo 2"
      ],
      "metadata": {
        "id": "2AMPJmBiGO9g"
      }
    },
    {
      "cell_type": "code",
      "source": [
        "def divide():\n",
        "\n",
        "  try:\n",
        "    op1 = (float(input(\"Introduce el primer número: \")))\n",
        "    op2 = (float(input(\"Introduce el segundo número: \")))\n",
        "    print(\"La división es:\", str(op1/op2))\n",
        "\n",
        "  except:\n",
        "    print(\"Ha ocurrido un error\")\n",
        "\n",
        "  print(\"Cálculo finalizado\")\n",
        "\n",
        "divide()\n"
      ],
      "metadata": {
        "colab": {
          "base_uri": "https://localhost:8080/"
        },
        "id": "ri2OdptlA4Nz",
        "outputId": "c0e4b5d9-9b1b-4b02-c13d-5f6aa25dc6b3"
      },
      "execution_count": 15,
      "outputs": [
        {
          "output_type": "stream",
          "name": "stdout",
          "text": [
            "Introduce el primer número: dfh\n",
            "Ha ocurrido un error\n",
            "Cálculo finalizado\n"
          ]
        }
      ]
    },
    {
      "cell_type": "code",
      "source": [
        "def divide():\n",
        "\n",
        "  try:\n",
        "    op1 = (float(input(\"Introduce el primer número: \")))\n",
        "    op2 = (float(input(\"Introduce el segundo número: \")))\n",
        "    print(\"La división es:\", str(op1/op2))\n",
        "\n",
        "  except ValueError:\n",
        "    print(\"El valor introducido es erróneo\")\n",
        "\n",
        "  except ZeroDivisionError:\n",
        "    print(\"No se puede dividir entre 0\")\n",
        "\n",
        "  finally: #Esto se va a ejecutar siempre, independientemente de lo que ocurra antes\n",
        "    print(\"Cálculo finalizado\")\n",
        "\n",
        "divide()"
      ],
      "metadata": {
        "colab": {
          "base_uri": "https://localhost:8080/"
        },
        "id": "5kYN40W1A4Q3",
        "outputId": "d6e63935-57f1-44c8-ad8f-f961b74ed154"
      },
      "execution_count": 14,
      "outputs": [
        {
          "output_type": "stream",
          "name": "stdout",
          "text": [
            "Introduce el primer número: gjk\n",
            "El valor introducido es erróneo\n",
            "Cálculo finalizado\n"
          ]
        }
      ]
    },
    {
      "cell_type": "markdown",
      "source": [
        "Ejemplo 3"
      ],
      "metadata": {
        "id": "gJ0ievykIQe3"
      }
    },
    {
      "cell_type": "code",
      "source": [
        "def evaluaEdad(edad):\n",
        "\n",
        "  if edad < 0:\n",
        "    raise TypeError(\"¿cómo vas a tener una edad negativa?\")\n",
        "\n",
        "  # raise nos permite crear un error, pero ojo, el error que pongamos es otra clase, así si no está definino de antes nos dará otro error\n",
        "\n",
        "  if edad<20:\n",
        "    return \"Eres muy joven\"\n",
        "  elif edad<40:\n",
        "    return \"Eres joven\"\n",
        "  elif edad<65:\n",
        "    return \"Eres maduro\"\n",
        "  elif edad<100:\n",
        "    return \"Cuídate...\"\n",
        "\n",
        "print(evaluaEdad(-15))"
      ],
      "metadata": {
        "colab": {
          "base_uri": "https://localhost:8080/",
          "height": 331
        },
        "id": "fs80zq94A4Ky",
        "outputId": "c371237c-da22-4ca6-b5e5-55cb34afcc62"
      },
      "execution_count": 22,
      "outputs": [
        {
          "output_type": "error",
          "ename": "TypeError",
          "evalue": "¿cómo vas a tener una edad negativa?",
          "traceback": [
            "\u001b[0;31m---------------------------------------------------------------------------\u001b[0m",
            "\u001b[0;31mTypeError\u001b[0m                                 Traceback (most recent call last)",
            "\u001b[0;32m<ipython-input-22-13fdfe094339>\u001b[0m in \u001b[0;36m<cell line: 17>\u001b[0;34m()\u001b[0m\n\u001b[1;32m     15\u001b[0m     \u001b[0;32mreturn\u001b[0m \u001b[0;34m\"Cuídate...\"\u001b[0m\u001b[0;34m\u001b[0m\u001b[0;34m\u001b[0m\u001b[0m\n\u001b[1;32m     16\u001b[0m \u001b[0;34m\u001b[0m\u001b[0m\n\u001b[0;32m---> 17\u001b[0;31m \u001b[0mprint\u001b[0m\u001b[0;34m(\u001b[0m\u001b[0mevaluaEdad\u001b[0m\u001b[0;34m(\u001b[0m\u001b[0;34m-\u001b[0m\u001b[0;36m15\u001b[0m\u001b[0;34m)\u001b[0m\u001b[0;34m)\u001b[0m\u001b[0;34m\u001b[0m\u001b[0;34m\u001b[0m\u001b[0m\n\u001b[0m",
            "\u001b[0;32m<ipython-input-22-13fdfe094339>\u001b[0m in \u001b[0;36mevaluaEdad\u001b[0;34m(edad)\u001b[0m\n\u001b[1;32m      2\u001b[0m \u001b[0;34m\u001b[0m\u001b[0m\n\u001b[1;32m      3\u001b[0m   \u001b[0;32mif\u001b[0m \u001b[0medad\u001b[0m \u001b[0;34m<\u001b[0m \u001b[0;36m0\u001b[0m\u001b[0;34m:\u001b[0m\u001b[0;34m\u001b[0m\u001b[0;34m\u001b[0m\u001b[0m\n\u001b[0;32m----> 4\u001b[0;31m     \u001b[0;32mraise\u001b[0m \u001b[0mTypeError\u001b[0m\u001b[0;34m(\u001b[0m\u001b[0;34m\"¿cómo vas a tener una edad negativa?\"\u001b[0m\u001b[0;34m)\u001b[0m\u001b[0;34m\u001b[0m\u001b[0;34m\u001b[0m\u001b[0m\n\u001b[0m\u001b[1;32m      5\u001b[0m \u001b[0;34m\u001b[0m\u001b[0m\n\u001b[1;32m      6\u001b[0m \u001b[0;34m\u001b[0m\u001b[0m\n",
            "\u001b[0;31mTypeError\u001b[0m: ¿cómo vas a tener una edad negativa?"
          ]
        }
      ]
    },
    {
      "cell_type": "code",
      "source": [
        "import math\n",
        "\n",
        "def calculaRaiz(num1):\n",
        "\n",
        "  if num1 < 0:\n",
        "    raise ValueError (\"El número no puede ser negativo\")\n",
        "  else:\n",
        "    return round(math.sqrt(num1),4)\n",
        "\n",
        "while True:\n",
        "  try:\n",
        "    op1=(int(input(\"Introduce un número: \")))\n",
        "    break # Ojo que si no ponemos el break, no termina nunca el bucle\n",
        "  except ValueError:\n",
        "    print(\"Los valores introducidos no son correctos. Inténtalo de nuevo\")\n",
        "\n",
        "try:\n",
        "  print(calculaRaiz(op1))\n",
        "except ValueError as ErrorNumeroNegativo:\n",
        "  print(ErrorNumeroNegativo)\n",
        "\n",
        "\n",
        "\n",
        "print(\"Programa terminado\")"
      ],
      "metadata": {
        "colab": {
          "base_uri": "https://localhost:8080/"
        },
        "id": "e4xexxi6A4Hn",
        "outputId": "71b637d5-730f-4394-852e-3baa6ab1ccb5"
      },
      "execution_count": 31,
      "outputs": [
        {
          "output_type": "stream",
          "name": "stdout",
          "text": [
            "Introduce un número: 147\n",
            "12.1244\n",
            "Programa terminado\n"
          ]
        }
      ]
    }
  ]
}