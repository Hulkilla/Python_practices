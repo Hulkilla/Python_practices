{
  "nbformat": 4,
  "nbformat_minor": 0,
  "metadata": {
    "colab": {
      "provenance": [],
      "authorship_tag": "ABX9TyMvd1y2n0myoMUKCO2/IBLI",
      "include_colab_link": true
    },
    "kernelspec": {
      "name": "python3",
      "display_name": "Python 3"
    },
    "language_info": {
      "name": "python"
    }
  },
  "cells": [
    {
      "cell_type": "markdown",
      "metadata": {
        "id": "view-in-github",
        "colab_type": "text"
      },
      "source": [
        "<a href=\"https://colab.research.google.com/github/Hulkilla/Python_practices/blob/main/POO_Herencia.ipynb\" target=\"_parent\"><img src=\"https://colab.research.google.com/assets/colab-badge.svg\" alt=\"Open In Colab\"/></a>"
      ]
    },
    {
      "cell_type": "code",
      "execution_count": 16,
      "metadata": {
        "id": "JACalBWQYYq6"
      },
      "outputs": [],
      "source": [
        "class Persona():\n",
        "\n",
        "  def __init__(self, nombre, edad, lugar_residencia):\n",
        "\n",
        "    self.nombre = nombre\n",
        "    self.edad = edad\n",
        "    self.lugar_residencia = lugar_residencia\n",
        "\n",
        "  def descripcion(self):\n",
        "\n",
        "    print(\"Nombre:\", self.nombre, \"\"\"\n",
        "Edad:\"\"\", self.edad, \"\"\"\n",
        "Lugar de residencia:\"\"\", self.lugar_residencia)\n",
        "\n",
        "class Empleado(Persona):\n",
        "\n",
        "  def __init__(self, nombre, edad, lugar_residencia, salario, antiguedad):\n",
        "\n",
        "    super().__init__(nombre, edad, lugar_residencia)\n",
        "    self.salario = salario\n",
        "    self.antiguedad = antiguedad\n",
        "\n",
        "  def descripcion(self):\n",
        "\n",
        "    super().descripcion()\n",
        "    print(\"Salario:\", self.salario, \"\"\"\n",
        "Antigüedad:\"\"\", self.antiguedad)\n",
        "\n",
        "\n",
        "# Ojo: Un empleado siempre es una persona, por lo que el empleado es un objeto de la clase persona\n",
        "# Si bien no ocurre al revés, una persona no tiene porqué ser empleado, sino que puede ser otra cosa, como un helicóptero apache."
      ]
    },
    {
      "cell_type": "code",
      "source": [
        "Antonio = Persona(\"Antonio\", 55, \"España\")\n",
        "\n",
        "Antonio.descripcion()"
      ],
      "metadata": {
        "colab": {
          "base_uri": "https://localhost:8080/"
        },
        "id": "_NSG0S-4ZkXV",
        "outputId": "bf524ee6-9d56-4221-d2fa-7b690cfe3ec4"
      },
      "execution_count": 19,
      "outputs": [
        {
          "output_type": "stream",
          "name": "stdout",
          "text": [
            "Nombre: Antonio \n",
            "Edad: 55 \n",
            "Lugar de residencia: España\n"
          ]
        }
      ]
    },
    {
      "cell_type": "code",
      "source": [
        "Manuel = Empleado(\"Manuel\", 55, \"España\", 1500, 15)\n",
        "\n",
        "Manuel.descripcion()"
      ],
      "metadata": {
        "colab": {
          "base_uri": "https://localhost:8080/"
        },
        "id": "CyEDbATHa_Fq",
        "outputId": "b5635fdd-d14e-4725-d31e-426672f70826"
      },
      "execution_count": 21,
      "outputs": [
        {
          "output_type": "stream",
          "name": "stdout",
          "text": [
            "Nombre: Manuel \n",
            "Edad: 55 \n",
            "Lugar de residencia: España\n",
            "Salario: 1500 \n",
            "Antigüedad: 15\n"
          ]
        }
      ]
    },
    {
      "cell_type": "code",
      "source": [
        "print(isinstance(Manuel, Empleado))\n",
        "#Esto quiere decir que Manuel pertenece a la clase empleado.\n",
        "print(isinstance(Manuel, Persona))\n",
        "#Y, por tanto, también pertenece a la clase persona, porque empleado es un objeto de la clase persona"
      ],
      "metadata": {
        "colab": {
          "base_uri": "https://localhost:8080/"
        },
        "id": "dKKCds7yctvh",
        "outputId": "4d01f098-1e3a-4a26-82f4-712461243933"
      },
      "execution_count": 24,
      "outputs": [
        {
          "output_type": "stream",
          "name": "stdout",
          "text": [
            "True\n",
            "True\n"
          ]
        }
      ]
    },
    {
      "cell_type": "code",
      "source": [
        "print(isinstance(Antonio, Empleado))\n",
        "#Esto quiere decir que Antonio no pertenece a la clase empleado.\n",
        "print(isinstance(Antonio, Persona))\n",
        "#Pero si que pertenece a la clase persona"
      ],
      "metadata": {
        "colab": {
          "base_uri": "https://localhost:8080/"
        },
        "id": "WeAHrcnictsH",
        "outputId": "0a64acdb-a9c0-414a-f64b-5fcd243cb306"
      },
      "execution_count": 25,
      "outputs": [
        {
          "output_type": "stream",
          "name": "stdout",
          "text": [
            "False\n",
            "True\n"
          ]
        }
      ]
    },
    {
      "cell_type": "code",
      "source": [],
      "metadata": {
        "id": "eKl3FhhEctpC"
      },
      "execution_count": null,
      "outputs": []
    }
  ]
}