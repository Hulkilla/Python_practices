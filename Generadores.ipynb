{
  "nbformat": 4,
  "nbformat_minor": 0,
  "metadata": {
    "colab": {
      "provenance": [],
      "authorship_tag": "ABX9TyOPUuAmTLxUsLcdVKdZmVZd",
      "include_colab_link": true
    },
    "kernelspec": {
      "name": "python3",
      "display_name": "Python 3"
    },
    "language_info": {
      "name": "python"
    }
  },
  "cells": [
    {
      "cell_type": "markdown",
      "metadata": {
        "id": "view-in-github",
        "colab_type": "text"
      },
      "source": [
        "<a href=\"https://colab.research.google.com/github/Hulkilla/Python_practices/blob/main/Generadores.ipynb\" target=\"_parent\"><img src=\"https://colab.research.google.com/assets/colab-badge.svg\" alt=\"Open In Colab\"/></a>"
      ]
    },
    {
      "cell_type": "code",
      "execution_count": 4,
      "metadata": {
        "colab": {
          "base_uri": "https://localhost:8080/"
        },
        "id": "fF3HcLXwfiun",
        "outputId": "32fbf243-ebaf-440a-db8b-6de75a9727d7"
      },
      "outputs": [
        {
          "output_type": "stream",
          "name": "stdout",
          "text": [
            "[2, 4, 6, 8, 10, 12, 14, 16, 18]\n"
          ]
        }
      ],
      "source": [
        "# Función tradicional\n",
        "\n",
        "def GeneraPares(limite): #Limite se refiere a la cantidad de parámetros que va a tener la lista de números pares\n",
        "\n",
        "  num = 1\n",
        "\n",
        "  miLista=[]\n",
        "\n",
        "  while num < limite:\n",
        "    miLista.append(num*2)\n",
        "    num += 1\n",
        "\n",
        "  return miLista\n",
        "\n",
        "print(GeneraPares(10))"
      ]
    },
    {
      "cell_type": "code",
      "source": [
        "# Función generador\n",
        "\n",
        "def GeneraPares(limite):\n",
        "\n",
        "  num = 1\n",
        "\n",
        "  while num < limite:\n",
        "\n",
        "    yield num*2\n",
        "\n",
        "    num += 1\n",
        "\n",
        "devuelvePares = GeneraPares(10)\n",
        "\n",
        "print(next(devuelvePares)) #El next es super importante si vas sacando un valor cada vez\n",
        "\n",
        "print(\"Lineas de código mimimi. La función está en suspensión hasta que la vuelvan a llamar\")\n",
        "\n",
        "print(next(devuelvePares))\n",
        "\n",
        "print(\"Lineas de código mimimi\")\n",
        "\n",
        "print(next(devuelvePares))\n",
        "\n"
      ],
      "metadata": {
        "colab": {
          "base_uri": "https://localhost:8080/"
        },
        "id": "jN-pFqI2i0DM",
        "outputId": "00e09ae4-7e87-43a8-aafd-15e80c63da7d"
      },
      "execution_count": 8,
      "outputs": [
        {
          "output_type": "stream",
          "name": "stdout",
          "text": [
            "2\n",
            "Lineas de código mimimi. La función está en suspensión hasta que la vuelvan a llamar\n",
            "4\n",
            "Lineas de código mimimi\n",
            "6\n"
          ]
        }
      ]
    },
    {
      "cell_type": "code",
      "source": [
        "def devuelve_ciudades(*ciudades):\n",
        "  for elemento in ciudades:\n",
        "    yield elemento\n",
        "\n",
        "cuidades_devueltas = devuelve_ciudades(\"Madrid\", \"Barcelona\", \"Valencia\", \"Murcia\")\n",
        "\n",
        "print(next(cuidades_devueltas))\n",
        "\n",
        "print(next(cuidades_devueltas))\n",
        "\n"
      ],
      "metadata": {
        "colab": {
          "base_uri": "https://localhost:8080/"
        },
        "id": "JZUCJssukNQK",
        "outputId": "e9a69a6a-456f-46a7-f497-162451e57280"
      },
      "execution_count": 11,
      "outputs": [
        {
          "output_type": "stream",
          "name": "stdout",
          "text": [
            "Madrid\n",
            "Barcelona\n"
          ]
        }
      ]
    },
    {
      "cell_type": "code",
      "source": [
        "def devuelve_ciudades(*ciudades):\n",
        "  for elemento in ciudades:\n",
        "    for subelemento in elemento:\n",
        "      yield subelemento\n",
        "\n",
        "cuidades_devueltas = devuelve_ciudades(\"Madrid\", \"Barcelona\", \"Valencia\", \"Murcia\")\n",
        "\n",
        "print(next(cuidades_devueltas))\n",
        "\n",
        "print(next(cuidades_devueltas))"
      ],
      "metadata": {
        "colab": {
          "base_uri": "https://localhost:8080/"
        },
        "id": "CDpC5kwKkNJu",
        "outputId": "4af4baec-69c5-4932-db02-c782bb541761"
      },
      "execution_count": 12,
      "outputs": [
        {
          "output_type": "stream",
          "name": "stdout",
          "text": [
            "M\n",
            "a\n"
          ]
        }
      ]
    },
    {
      "cell_type": "code",
      "source": [
        "def devuelve_ciudades(*ciudades):\n",
        "  for elemento in ciudades:\n",
        "    yield from elemento\n",
        "\n",
        "cuidades_devueltas = devuelve_ciudades(\"Madrid\", \"Barcelona\", \"Valencia\", \"Murcia\")\n",
        "\n",
        "print(next(cuidades_devueltas))\n",
        "\n",
        "print(next(cuidades_devueltas))"
      ],
      "metadata": {
        "colab": {
          "base_uri": "https://localhost:8080/"
        },
        "id": "6WjVM5KUkNG5",
        "outputId": "88a125b5-23ca-4535-8dd2-5b4e2c3fe6ad"
      },
      "execution_count": 13,
      "outputs": [
        {
          "output_type": "stream",
          "name": "stdout",
          "text": [
            "M\n",
            "a\n"
          ]
        }
      ]
    },
    {
      "cell_type": "code",
      "source": [],
      "metadata": {
        "id": "n7awvuiGkNDi"
      },
      "execution_count": null,
      "outputs": []
    }
  ]
}