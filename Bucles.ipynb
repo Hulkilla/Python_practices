{
  "nbformat": 4,
  "nbformat_minor": 0,
  "metadata": {
    "colab": {
      "provenance": [],
      "authorship_tag": "ABX9TyMjG41mIEkxOXyllkxAc9sT",
      "include_colab_link": true
    },
    "kernelspec": {
      "name": "python3",
      "display_name": "Python 3"
    },
    "language_info": {
      "name": "python"
    }
  },
  "cells": [
    {
      "cell_type": "markdown",
      "metadata": {
        "id": "view-in-github",
        "colab_type": "text"
      },
      "source": [
        "<a href=\"https://colab.research.google.com/github/Hulkilla/Python_practices/blob/main/Bucles.ipynb\" target=\"_parent\"><img src=\"https://colab.research.google.com/assets/colab-badge.svg\" alt=\"Open In Colab\"/></a>"
      ]
    },
    {
      "cell_type": "markdown",
      "source": [
        "# Bucle determinado: for\n"
      ],
      "metadata": {
        "id": "QcIKUtCHBD8J"
      }
    },
    {
      "cell_type": "code",
      "execution_count": null,
      "metadata": {
        "colab": {
          "base_uri": "https://localhost:8080/"
        },
        "id": "Omaey4zI_B0A",
        "outputId": "682292c9-bb58-44fa-a1ac-f98252e3e5b6"
      },
      "outputs": [
        {
          "output_type": "stream",
          "name": "stdout",
          "text": [
            "Hola 1\n",
            "Hola 2\n",
            "Hola 3\n"
          ]
        }
      ],
      "source": [
        "for i in [1,2,3]:\n",
        "  print(\"Hola\", i)"
      ]
    },
    {
      "cell_type": "code",
      "source": [
        "for i in [\"primavera\", \"verano\", \"otoño\", \"invierno\"]:\n",
        "  print(\"Hola\", i)"
      ],
      "metadata": {
        "colab": {
          "base_uri": "https://localhost:8080/"
        },
        "id": "tviZeW3vBeWz",
        "outputId": "a2e02b4a-bd28-4e1b-e44e-94877f2d85e3"
      },
      "execution_count": null,
      "outputs": [
        {
          "output_type": "stream",
          "name": "stdout",
          "text": [
            "Hola primavera\n",
            "Hola verano\n",
            "Hola otoño\n",
            "Hola invierno\n"
          ]
        }
      ]
    },
    {
      "cell_type": "code",
      "source": [
        "for i in [\"Marina\", \"Fernandez\", 1, 456.35]:\n",
        "  print(\"Dato: \", i, end = \" \")"
      ],
      "metadata": {
        "colab": {
          "base_uri": "https://localhost:8080/"
        },
        "id": "ts0PBxV9BeTv",
        "outputId": "4a6f19cb-2ff9-497d-b3ea-200451677ea9"
      },
      "execution_count": null,
      "outputs": [
        {
          "output_type": "stream",
          "name": "stdout",
          "text": [
            "Dato:  Marina Dato:  Fernandez Dato:  1 Dato:  456.35 "
          ]
        }
      ]
    },
    {
      "cell_type": "code",
      "source": [
        "for i in \"juan@email.ogt\":\n",
        "  print(\"Caracter: \", i)"
      ],
      "metadata": {
        "colab": {
          "base_uri": "https://localhost:8080/"
        },
        "id": "63O39Z6tBeQw",
        "outputId": "1f94592e-b8a6-46c3-80a7-51efb73ad44f"
      },
      "execution_count": null,
      "outputs": [
        {
          "output_type": "stream",
          "name": "stdout",
          "text": [
            "Caracter:  j\n",
            "Caracter:  u\n",
            "Caracter:  a\n",
            "Caracter:  n\n",
            "Caracter:  @\n",
            "Caracter:  e\n",
            "Caracter:  m\n",
            "Caracter:  a\n",
            "Caracter:  i\n",
            "Caracter:  l\n",
            "Caracter:  .\n",
            "Caracter:  o\n",
            "Caracter:  g\n",
            "Caracter:  t\n"
          ]
        }
      ]
    },
    {
      "cell_type": "code",
      "source": [
        "email = False\n",
        "for i in \"juan@email.ogt\":\n",
        "  if (i == \"@\"):\n",
        "    email = True\n",
        "\n",
        "if email == True:\n",
        "  print(\"Email válido\")\n",
        "else:\n",
        "  print(\"Email no válido\")"
      ],
      "metadata": {
        "colab": {
          "base_uri": "https://localhost:8080/"
        },
        "id": "o1k1Uf4EBeNo",
        "outputId": "0f7b2591-ee43-4334-8fd7-b32d05d5c932"
      },
      "execution_count": null,
      "outputs": [
        {
          "output_type": "stream",
          "name": "stdout",
          "text": [
            "Email no válido\n"
          ]
        }
      ]
    },
    {
      "cell_type": "code",
      "source": [
        "email = False\n",
        "MiEmail = input(\"Introduce tu dirección de email: \")\n",
        "for i in MiEmail:\n",
        "  if (i == \"@\"):\n",
        "    email = True\n",
        "\n",
        "if email == True:\n",
        "  print(\"Email válido\")\n",
        "else:\n",
        "  print(\"Email no válido\")"
      ],
      "metadata": {
        "colab": {
          "base_uri": "https://localhost:8080/"
        },
        "id": "TOqb9qnaBeKv",
        "outputId": "b962ae6b-5105-4d4f-9783-959293b762cb"
      },
      "execution_count": null,
      "outputs": [
        {
          "output_type": "stream",
          "name": "stdout",
          "text": [
            "Introduce tu dirección de email: mail@mail.com\n",
            "Email válido\n"
          ]
        }
      ]
    },
    {
      "cell_type": "code",
      "source": [
        "contador = 0\n",
        "MiEmail = input(\"Introduce tu dirección de email: \")\n",
        "for i in MiEmail:\n",
        "  if (i == \"@\" or i == \".\"):\n",
        "    contador += 1\n",
        "\n",
        "\n",
        "if contador == 2:\n",
        "  print(\"Email válido\")\n",
        "else:\n",
        "  print(\"Email no válido\")"
      ],
      "metadata": {
        "colab": {
          "base_uri": "https://localhost:8080/"
        },
        "id": "rRNDMtg0BeIL",
        "outputId": "31a91b54-8ddc-4360-a7f8-46804d0ad5b3"
      },
      "execution_count": null,
      "outputs": [
        {
          "output_type": "stream",
          "name": "stdout",
          "text": [
            "Introduce tu dirección de email: sgdh@dfgdgh.com\n",
            "Email válido\n"
          ]
        }
      ]
    },
    {
      "cell_type": "code",
      "source": [
        "for i in range(5):\n",
        "  print(\"Hola\")"
      ],
      "metadata": {
        "colab": {
          "base_uri": "https://localhost:8080/"
        },
        "id": "SngA8-vFBeE-",
        "outputId": "530c0b72-286e-4f7f-941e-b118aca9869b"
      },
      "execution_count": null,
      "outputs": [
        {
          "output_type": "stream",
          "name": "stdout",
          "text": [
            "Hola 0\n",
            "Hola 1\n",
            "Hola 2\n",
            "Hola 3\n",
            "Hola 4\n"
          ]
        }
      ]
    },
    {
      "cell_type": "code",
      "source": [
        "for i in range(5):\n",
        "  print(f\"valor de la variable {i}\")"
      ],
      "metadata": {
        "colab": {
          "base_uri": "https://localhost:8080/"
        },
        "id": "wQGcU4eRBeCN",
        "outputId": "7c74a72a-30bc-439c-9f86-df25d63c017c"
      },
      "execution_count": null,
      "outputs": [
        {
          "output_type": "stream",
          "name": "stdout",
          "text": [
            "valor de la variable 0\n",
            "valor de la variable 1\n",
            "valor de la variable 2\n",
            "valor de la variable 3\n",
            "valor de la variable 4\n"
          ]
        }
      ]
    },
    {
      "cell_type": "code",
      "source": [
        "for i in range(5,10):\n",
        "  print(f\"valor de la variable {i}\")"
      ],
      "metadata": {
        "colab": {
          "base_uri": "https://localhost:8080/"
        },
        "id": "hm_2um8qBd_P",
        "outputId": "11609952-7234-4dcf-e465-5a682db8ed2b"
      },
      "execution_count": null,
      "outputs": [
        {
          "output_type": "stream",
          "name": "stdout",
          "text": [
            "valor de la variable 5\n",
            "valor de la variable 6\n",
            "valor de la variable 7\n",
            "valor de la variable 8\n",
            "valor de la variable 9\n"
          ]
        }
      ]
    },
    {
      "cell_type": "code",
      "source": [
        "for i in range(5,51,5):\n",
        "  print(f\"valor de la variable {i}\")"
      ],
      "metadata": {
        "colab": {
          "base_uri": "https://localhost:8080/"
        },
        "id": "Zwjbhs0mBd8x",
        "outputId": "d0659e5c-4358-4ab1-f054-e7e511ad1d46"
      },
      "execution_count": null,
      "outputs": [
        {
          "output_type": "stream",
          "name": "stdout",
          "text": [
            "valor de la variable 5\n",
            "valor de la variable 10\n",
            "valor de la variable 15\n",
            "valor de la variable 20\n",
            "valor de la variable 25\n",
            "valor de la variable 30\n",
            "valor de la variable 35\n",
            "valor de la variable 40\n",
            "valor de la variable 45\n",
            "valor de la variable 50\n"
          ]
        }
      ]
    },
    {
      "cell_type": "code",
      "source": [
        "valido = False\n",
        "email = input(\"introduce tu email: \")\n",
        "\n",
        "for i in range(len(email)):\n",
        "  if email[i] ==\"@\":\n",
        "    valido = True\n",
        "\n",
        "if valido == True:\n",
        "  print(\"Email válido\")\n",
        "else:\n",
        "  print(\"Email no válido\")"
      ],
      "metadata": {
        "colab": {
          "base_uri": "https://localhost:8080/"
        },
        "id": "ydjvb-0-Bd6Y",
        "outputId": "17077ec1-9306-472a-d3e1-86f2d575398d"
      },
      "execution_count": null,
      "outputs": [
        {
          "output_type": "stream",
          "name": "stdout",
          "text": [
            "introduce tu email: dfj\n",
            "Email no válido\n"
          ]
        }
      ]
    },
    {
      "cell_type": "markdown",
      "source": [
        "## Ejercicios"
      ],
      "metadata": {
        "id": "Mn3kmgWHHPBR"
      }
    },
    {
      "cell_type": "markdown",
      "source": [
        "### Ejercicio 1:\n",
        "Crea un programa que muestre los números impares del 1 al 100. Los números deberán aparecer una al lado del otro sin salto de línea."
      ],
      "metadata": {
        "id": "OfdvSPJfHRcf"
      }
    },
    {
      "cell_type": "code",
      "source": [
        "numeros = range(1,101)\n",
        "\n",
        "for i in numeros:\n",
        "\n",
        "  if i % 2 != 0:\n",
        "    print(i, end = \" \")"
      ],
      "metadata": {
        "colab": {
          "base_uri": "https://localhost:8080/"
        },
        "id": "-IPp8EFRHVRu",
        "outputId": "01be8c06-496f-4702-82b2-bfacc366f901"
      },
      "execution_count": null,
      "outputs": [
        {
          "output_type": "stream",
          "name": "stdout",
          "text": [
            "1 3 5 7 9 11 13 15 17 19 21 23 25 27 29 31 33 35 37 39 41 43 45 47 49 51 53 55 57 59 61 63 65 67 69 71 73 75 77 79 81 83 85 87 89 91 93 95 97 99 "
          ]
        }
      ]
    },
    {
      "cell_type": "code",
      "source": [
        "#Otra opción\n",
        "for i in range(1,100,2):\n",
        "  print(i, end = \" \")"
      ],
      "metadata": {
        "colab": {
          "base_uri": "https://localhost:8080/"
        },
        "id": "ZbWW-IWgPFzL",
        "outputId": "fdbebf82-db23-4e0f-e19f-5aac24bbbd75"
      },
      "execution_count": null,
      "outputs": [
        {
          "output_type": "stream",
          "name": "stdout",
          "text": [
            "1 3 5 7 9 11 13 15 17 19 21 23 25 27 29 31 33 35 37 39 41 43 45 47 49 51 53 55 57 59 61 63 65 67 69 71 73 75 77 79 81 83 85 87 89 91 93 95 97 99 "
          ]
        }
      ]
    },
    {
      "cell_type": "markdown",
      "source": [
        "### Ejercicio 2:\n",
        "Crea un programa que pida por teclado introducir una contraseña. La contraseña no podrá tener menos de 8 caracteres ni espacios en blanco. Si la contraseña es correcta, el programa imprime “Contraseña OK”. En caso contrario imprime “Contraseña errónea”"
      ],
      "metadata": {
        "id": "RNzce2bQHV-O"
      }
    },
    {
      "cell_type": "code",
      "source": [
        "print(\"\"\"La contraseña a introducir debe cumplir dos requisitos:\n",
        "      1. Al menos 8 caracteres\n",
        "      2. No puede contener espacios en blanco\"\"\")\n",
        "contrasenna = input(\"Introduce tu contraseña: \")\n",
        "\n",
        "valida = True\n",
        "if len(contrasenna) < 8:\n",
        "  valida = False\n",
        "else:\n",
        "  for i in contrasenna:\n",
        "    if i == \" \":\n",
        "      valida = False\n",
        "\n",
        "if valida == True:\n",
        "  print(\"Contraseña válida\")\n",
        "else:\n",
        "  print(\"Contraseña no válida\")"
      ],
      "metadata": {
        "colab": {
          "base_uri": "https://localhost:8080/"
        },
        "id": "ItkfM4OPHcnO",
        "outputId": "0d126f44-3372-4c85-d527-068e60e0f4c6"
      },
      "execution_count": null,
      "outputs": [
        {
          "output_type": "stream",
          "name": "stdout",
          "text": [
            "La contraseña a introducir debe cumplir dos requisitos:\n",
            "      1. Al menos 8 caracteres\n",
            "      2. No puede contener espacios en blanco\n",
            "Introduce tu contraseña: ery edyru\n",
            "Contraseña no válida\n"
          ]
        }
      ]
    },
    {
      "cell_type": "markdown",
      "source": [
        "### Ejercicio 3:\n",
        "Crea un programa que evalúe si una dirección de correo electrónico es válida o no en\n",
        "función de si tiene “@” o “.” Hay que tener en cuenta que la dirección se considera\n",
        "correcta si solo tiene una “@” y si tiene uno o más “.”"
      ],
      "metadata": {
        "id": "fr6B-SrLHdRu"
      }
    },
    {
      "cell_type": "code",
      "source": [
        "contadorArroba = 0\n",
        "contadorPunto = 0\n",
        "MiEmail = input(\"Introduce tu dirección de email: \")\n",
        "for i in MiEmail:\n",
        "  if (i == \"@\"):\n",
        "    contadorArroba += 1\n",
        "  if(i == \".\"):\n",
        "    contadorPunto += 1\n",
        "\n",
        "\n",
        "\n",
        "if contadorArroba == 1 and contadorPunto >= 1:\n",
        "  print(\"Email válido\")\n",
        "else:\n",
        "  print(\"Email no válido\")"
      ],
      "metadata": {
        "colab": {
          "base_uri": "https://localhost:8080/"
        },
        "id": "OkpADNPHHpvh",
        "outputId": "57a903c9-a3f7-40b6-a959-b2af9ec21c37"
      },
      "execution_count": null,
      "outputs": [
        {
          "output_type": "stream",
          "name": "stdout",
          "text": [
            "Introduce tu dirección de email: hola@xcb.co@m\n",
            "Email no válido\n"
          ]
        }
      ]
    },
    {
      "cell_type": "markdown",
      "source": [
        "# Bucle indeterminado: while"
      ],
      "metadata": {
        "id": "yoX_kHbRR1NZ"
      }
    },
    {
      "cell_type": "code",
      "source": [
        "i = 1\n",
        "\n",
        "while i <= 10:\n",
        "  print(\"Ejecución: \", i)\n",
        "  i += 1\n",
        "\n",
        "print(\"Fin de la ejecución\")"
      ],
      "metadata": {
        "colab": {
          "base_uri": "https://localhost:8080/"
        },
        "id": "1qr-s9iCR0_C",
        "outputId": "6085167f-f896-495f-882f-3c69c66111cf"
      },
      "execution_count": null,
      "outputs": [
        {
          "output_type": "stream",
          "name": "stdout",
          "text": [
            "Ejecución:  1\n",
            "Ejecución:  2\n",
            "Ejecución:  3\n",
            "Ejecución:  4\n",
            "Ejecución:  5\n",
            "Ejecución:  6\n",
            "Ejecución:  7\n",
            "Ejecución:  8\n",
            "Ejecución:  9\n",
            "Ejecución:  10\n",
            "Fin de la ejecución\n"
          ]
        }
      ]
    },
    {
      "cell_type": "code",
      "source": [
        "edad = int(input(\"Dime tu edad, por favor: \"))\n",
        "\n",
        "while edad < 0 or edad > 100:\n",
        "  print(\"Has introducido una edad incorrecta. Vuelve a intentarlo: \")\n",
        "  edad = int(input(\"Dime tu edad, por favor: \"))\n",
        "\n",
        "print(\"Gracias, viejo\")\n",
        "print(\"Tu edad es:\", edad)"
      ],
      "metadata": {
        "colab": {
          "base_uri": "https://localhost:8080/"
        },
        "id": "PQXtfiJ1Sx-B",
        "outputId": "33cad7e8-cc95-46cc-8eb0-8831f19486fd"
      },
      "execution_count": null,
      "outputs": [
        {
          "output_type": "stream",
          "name": "stdout",
          "text": [
            "Dime tu edad, por favor: 345\n",
            "Has introducido una edad incorrecta. Vuelve a intentarlo: \n",
            "Dime tu edad, por favor: 34\n",
            "Gracias, viejo\n",
            "Tu edad es: 34\n"
          ]
        }
      ]
    },
    {
      "cell_type": "code",
      "source": [
        "import math\n",
        "\n",
        "print(\"Programa de cálculo de raíz cuadrada\")\n",
        "\n",
        "numero=float(input(\"Introduce un número, por favor: \"))\n",
        "intentos = 0\n",
        "\n",
        "while numero < 0:\n",
        "\n",
        "  if intentos == 2:\n",
        "    print(\"A ver, no era tan dificil introducir un número positivo. Mira, yo me voy.\")\n",
        "    break;\n",
        "\n",
        "  print(\"Capullo, por un número positivo\")\n",
        "  numero = float(input(\"Introduce un número, por favor: \"))\n",
        "  if numero < 0:\n",
        "    intentos += 1\n",
        "\n",
        "if intentos < 2:\n",
        "  RaizCuadrada = math.sqrt(numero)\n",
        "  print(\"La raíz cuadrada de:\", numero, \"es\", RaizCuadrada)"
      ],
      "metadata": {
        "colab": {
          "base_uri": "https://localhost:8080/"
        },
        "id": "FJZ9v8FFSx6X",
        "outputId": "80c2ed28-b7fa-4987-fd84-e3b89128bc9e"
      },
      "execution_count": null,
      "outputs": [
        {
          "output_type": "stream",
          "name": "stdout",
          "text": [
            "Programa de cálculo de raíz cuadrada\n",
            "Introduce un número, por favor: 45.768\n",
            "La raíz cuadrada de: 45.768 es 6.76520509666928\n"
          ]
        }
      ]
    },
    {
      "cell_type": "markdown",
      "source": [
        "## Ejercicios"
      ],
      "metadata": {
        "id": "I4_6h8LZX_Nq"
      }
    },
    {
      "cell_type": "markdown",
      "source": [
        "### Ejercicio 1\n",
        "Crea un programa que pida números infinitamente. Los números introducidos deben\n",
        "ser cada vez mayores.\n",
        "\n",
        "El programa finalizará cuando se introduce un número menor que el anterior."
      ],
      "metadata": {
        "id": "gjT6s_fQYJ-Z"
      }
    },
    {
      "cell_type": "code",
      "source": [
        "numero1=float(input(\"Introduce un número, por favor: \"))\n",
        "numero2=float(input(\"Introduce un número mayor que el anterior, por favor: \"))\n",
        "\n",
        "while numero1 < numero2:\n",
        "  numero1 = numero2\n",
        "  numero2=float(input(\"Introduce un número mayor que el anterior, por favor: \"))\n",
        "\n",
        "print(\"El último número añadido NO es mayor que el anterior.\")"
      ],
      "metadata": {
        "colab": {
          "base_uri": "https://localhost:8080/"
        },
        "id": "Idxfzoa2YJWB",
        "outputId": "0fafbf23-e814-4908-a0d2-e58e8aa75ba5"
      },
      "execution_count": null,
      "outputs": [
        {
          "output_type": "stream",
          "name": "stdout",
          "text": [
            "Introduce un número, por favor: 4\n",
            "Introduce un número mayor que el anterior, por favor: 6\n",
            "Introduce un número mayor que el anterior, por favor: 8\n",
            "Introduce un número mayor que el anterior, por favor: 9\n",
            "Introduce un número mayor que el anterior, por favor: 234\n",
            "Introduce un número mayor que el anterior, por favor: 34654367\n",
            "Introduce un número mayor que el anterior, por favor: 22536367\n",
            "El último número añadido NO es mayor que el anterior.\n"
          ]
        }
      ]
    },
    {
      "cell_type": "markdown",
      "source": [
        "### Ejercicio 2:\n",
        "Crea un programa que pida números positivos indefinidamente.\n",
        "\n",
        "El programa termina\n",
        "cuando se introduce un número negativo.\n",
        "\n",
        "Finalmente el programa muestras la suma de todos los números introducidos"
      ],
      "metadata": {
        "id": "vhNFpW6hYPb6"
      }
    },
    {
      "cell_type": "code",
      "source": [
        "numero=float(input(\"Introduce un número positivo, por favor: \"))\n",
        "suma = 0\n",
        "\n",
        "while numero > 0:\n",
        "  suma = suma + numero\n",
        "  numero=float(input(\"Introduce otro número positivo, por favor: \"))\n",
        "\n",
        "print(\"El número\", numero, \"NO es positivo.\")\n",
        "print(\"La suma de todos los números añadidos es: \", suma)"
      ],
      "metadata": {
        "colab": {
          "base_uri": "https://localhost:8080/"
        },
        "id": "Z0Va0kNoSx0X",
        "outputId": "75b9821f-b97d-4836-ea77-17bae158a43b"
      },
      "execution_count": null,
      "outputs": [
        {
          "output_type": "stream",
          "name": "stdout",
          "text": [
            "Introduce un número positivo, por favor: 5\n",
            "Introduce otro número positivo, por favor: 6\n",
            "Introduce otro número positivo, por favor: 7\n",
            "Introduce otro número positivo, por favor: 8\n",
            "Introduce otro número positivo, por favor: 2345\n",
            "Introduce otro número positivo, por favor: 3462352\n",
            "Introduce otro número positivo, por favor: -5\n",
            "El número -5.0 NO es positivo.\n",
            "LA suma de todos los números añadidos es:  3464723.0\n"
          ]
        }
      ]
    },
    {
      "cell_type": "markdown",
      "source": [
        "# Interacciones con los bucles: continue, pass y else"
      ],
      "metadata": {
        "id": "hYzcbTEBa0hF"
      }
    },
    {
      "cell_type": "code",
      "source": [
        "for letra in \"python\":\n",
        "  print(\"Viendo la letra: \", letra)"
      ],
      "metadata": {
        "colab": {
          "base_uri": "https://localhost:8080/"
        },
        "id": "e-Eou2bhazie",
        "outputId": "3e67a417-e891-472b-8c8b-391b8dc5a9be"
      },
      "execution_count": 57,
      "outputs": [
        {
          "output_type": "stream",
          "name": "stdout",
          "text": [
            "Viendo la letra:  p\n",
            "Viendo la letra:  y\n",
            "Viendo la letra:  t\n",
            "Viendo la letra:  h\n",
            "Viendo la letra:  o\n",
            "Viendo la letra:  n\n"
          ]
        }
      ]
    },
    {
      "cell_type": "code",
      "source": [
        "for letra in \"python\":\n",
        "\n",
        "  if letra == \"h\":\n",
        "    continue\n",
        "  print(\"Viendo la letra: \", letra)"
      ],
      "metadata": {
        "colab": {
          "base_uri": "https://localhost:8080/"
        },
        "id": "vd4cnXFga0LO",
        "outputId": "354088cc-cb70-44aa-d4cd-13abdceb3d1a"
      },
      "execution_count": 58,
      "outputs": [
        {
          "output_type": "stream",
          "name": "stdout",
          "text": [
            "Viendo la letra:  p\n",
            "Viendo la letra:  y\n",
            "Viendo la letra:  t\n",
            "Viendo la letra:  o\n",
            "Viendo la letra:  n\n"
          ]
        }
      ]
    },
    {
      "cell_type": "code",
      "source": [
        "nombre = \"Pildoras Informáticas\"\n",
        "\n",
        "print(\"Caracteres:\", len(nombre))\n",
        "\n",
        "contador = 0\n",
        "\n",
        "for i in nombre:\n",
        "  if i == \" \":\n",
        "    continue\n",
        "\n",
        "  contador += 1\n",
        "\n",
        "print(\"Numero de letras:\", contador)"
      ],
      "metadata": {
        "colab": {
          "base_uri": "https://localhost:8080/"
        },
        "id": "-e_HIBJSa0Dd",
        "outputId": "e7c2a17c-c733-4812-fa2f-04f615a307fd"
      },
      "execution_count": 62,
      "outputs": [
        {
          "output_type": "stream",
          "name": "stdout",
          "text": [
            "Caracteres: 21\n",
            "Numero de letras: 20\n"
          ]
        }
      ]
    },
    {
      "cell_type": "code",
      "source": [
        "class MiClase:\n",
        "  pass    # Para implementar más tarde"
      ],
      "metadata": {
        "id": "9X043oQvcqvb"
      },
      "execution_count": null,
      "outputs": []
    },
    {
      "cell_type": "code",
      "source": [
        "email = input(\"Dime tu email, por favor: \")\n",
        "\n",
        "for i in email:\n",
        "  if i ==\"@\":\n",
        "    arroba = True\n",
        "    break;\n",
        "else:\n",
        "  arroba = False\n",
        "\n",
        "print(arroba)"
      ],
      "metadata": {
        "colab": {
          "base_uri": "https://localhost:8080/"
        },
        "id": "kSy-nba-cqsf",
        "outputId": "cebbd2b5-bb36-46f3-caa4-1222c9c82f42"
      },
      "execution_count": 64,
      "outputs": [
        {
          "output_type": "stream",
          "name": "stdout",
          "text": [
            "Dime tu email, por favor: marina\n",
            "False\n"
          ]
        }
      ]
    }
  ]
}