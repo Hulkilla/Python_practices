{
  "nbformat": 4,
  "nbformat_minor": 0,
  "metadata": {
    "colab": {
      "provenance": [],
      "authorship_tag": "ABX9TyPyK9BqwvJrr7YFYM7qezsY",
      "include_colab_link": true
    },
    "kernelspec": {
      "name": "python3",
      "display_name": "Python 3"
    },
    "language_info": {
      "name": "python"
    }
  },
  "cells": [
    {
      "cell_type": "markdown",
      "metadata": {
        "id": "view-in-github",
        "colab_type": "text"
      },
      "source": [
        "<a href=\"https://colab.research.google.com/github/Hulkilla/Python_practices/blob/main/Condicionales.ipynb\" target=\"_parent\"><img src=\"https://colab.research.google.com/assets/colab-badge.svg\" alt=\"Open In Colab\"/></a>"
      ]
    },
    {
      "cell_type": "code",
      "execution_count": null,
      "metadata": {
        "id": "VeN4b_cdBbu7"
      },
      "outputs": [],
      "source": [
        "def evaluacion(nota):\n",
        "  valoracion =\"aprobado\"\n",
        "  if nota < 5:\n",
        "    valoracion = \"suspenso\"\n",
        "  return valoracion"
      ]
    },
    {
      "cell_type": "code",
      "source": [
        "print(evaluacion(5))"
      ],
      "metadata": {
        "colab": {
          "base_uri": "https://localhost:8080/"
        },
        "id": "6MpZf0BjW4Pd",
        "outputId": "c44599bc-4463-4ec6-fff5-8a90db3abbf2"
      },
      "execution_count": null,
      "outputs": [
        {
          "output_type": "stream",
          "name": "stdout",
          "text": [
            "aprobado\n"
          ]
        }
      ]
    },
    {
      "cell_type": "code",
      "source": [
        "print(\"Programa de evaluación de notas de alumnos\")\n",
        "\n",
        "nota_alumno = float(input(\"Introduce la nota del alumno: \"))\n",
        "#Si solo se pone el input se almancena como string y no como float o entero.\n",
        "\n",
        "def evaluacion(nota):\n",
        "  valoracion =\"El alumno está aprobado\"\n",
        "  if nota < 5:\n",
        "    valoracion = \"El alumno está suspenso\"\n",
        "  return valoracion\n",
        "\n",
        "print(evaluacion(nota_alumno))"
      ],
      "metadata": {
        "colab": {
          "base_uri": "https://localhost:8080/"
        },
        "id": "fVFFHEeWW4L8",
        "outputId": "fce8064e-c7f0-4ad6-e3e6-998fe60e2d28"
      },
      "execution_count": null,
      "outputs": [
        {
          "output_type": "stream",
          "name": "stdout",
          "text": [
            "Programa de evaluación de notas de alumnos\n",
            "Dime la nota que quieres evaluar: 3\n",
            "El alumno está suspenso\n"
          ]
        }
      ]
    },
    {
      "cell_type": "code",
      "source": [
        "print(\"Verificación de acceso\")\n",
        "edad_usuario = float(input(\"Introduce tu edad: \"))\n",
        "\n",
        "if edad_usuario < 18:\n",
        "  print(\"No puedes pasar\")\n",
        "elif edad_usuario >= 100:\n",
        "  print(\"¡Tienes más de 100 años! WOW\")\n",
        "  print(\"Anda, dime la edad correcta\")\n",
        "else:\n",
        "  print(\"Puedes pasar\")\n"
      ],
      "metadata": {
        "colab": {
          "base_uri": "https://localhost:8080/"
        },
        "id": "gyvVMgNTW4JA",
        "outputId": "420e199c-a07c-4f10-8e70-8fd9daefaf1d"
      },
      "execution_count": null,
      "outputs": [
        {
          "output_type": "stream",
          "name": "stdout",
          "text": [
            "Verificación de acceso\n",
            "Introduce tu edad: 150\n",
            "¡Tienes más de 100 años! WOW\n",
            "Anda, dime la edad correcta\n"
          ]
        }
      ]
    },
    {
      "cell_type": "code",
      "source": [
        "nota_alumno = float(input(\"Introduce la nota: \"))\n",
        "\n",
        "if nota_alumno < 5:\n",
        "  print(\"insuficiente\")\n",
        "elif nota_alumno >=5 and nota_alumno < 6:\n",
        "  print(\"suficiente\")\n",
        "elif nota_alumno >=6 and nota_alumno < 7:\n",
        "  print(\"bien\")\n",
        "elif nota_alumno >=7 and nota_alumno < 9:\n",
        "  print(\"notable\")\n",
        "else:\n",
        "  print(\"Sobresaliente\")"
      ],
      "metadata": {
        "colab": {
          "base_uri": "https://localhost:8080/"
        },
        "id": "RBJo479uW4F9",
        "outputId": "c7f04762-c0f2-49d2-a90f-38652228569a"
      },
      "execution_count": null,
      "outputs": [
        {
          "output_type": "stream",
          "name": "stdout",
          "text": [
            "Introduce la nota: 6\n",
            "bien\n"
          ]
        }
      ]
    },
    {
      "cell_type": "code",
      "source": [
        "edad = 7\n"
      ],
      "metadata": {
        "id": "mwAQ3_WlW34s"
      },
      "execution_count": 2,
      "outputs": []
    },
    {
      "cell_type": "code",
      "source": [
        "if edad >= 0 and edad < 100:\n",
        "  print(\"Edad correcta\")\n",
        "else:\n",
        "  print(\"Edad incorrecta\")"
      ],
      "metadata": {
        "colab": {
          "base_uri": "https://localhost:8080/"
        },
        "id": "feqpmwzHM_3h",
        "outputId": "7df51827-898a-424c-e8cf-3007905663fc"
      },
      "execution_count": 3,
      "outputs": [
        {
          "output_type": "stream",
          "name": "stdout",
          "text": [
            "Edad es correcta\n"
          ]
        }
      ]
    },
    {
      "cell_type": "code",
      "source": [
        "salario_presidente = int(input(\"Introduce el salario del presidente: \"))\n",
        "print(\"Salario presidente: \", salario_presidente)\n",
        "\n",
        "salario_director = int(input(\"Introduce el salario del director: \"))\n",
        "print(\"Salario director: \", salario_director)\n",
        "\n",
        "salario_jefe_area = int(input(\"Introduce el salario del Jefe de Área: \"))\n",
        "print(\"Salario Jefe Área: \", salario_jefe_area)\n",
        "\n",
        "salario_administrativo = int(input(\"Introduce el salario del administrativo: \"))\n",
        "print(\"Salario administrativo: \", salario_administrativo)\n",
        "\n",
        "if salario_administrativo < salario_jefe_area < salario_director < salario_presidente:\n",
        "  print(\"Todo funciona correctamente\")\n",
        "else:\n",
        "  print(\"Algo va mal\")"
      ],
      "metadata": {
        "colab": {
          "base_uri": "https://localhost:8080/"
        },
        "id": "XQuFu8gJOd5T",
        "outputId": "94a244b9-3f39-4482-c666-706401588ac4"
      },
      "execution_count": 6,
      "outputs": [
        {
          "output_type": "stream",
          "name": "stdout",
          "text": [
            "Introduce el salario del presidente: 100\n",
            "Salario presidente:  100\n",
            "Introduce el salario del director: 1500\n",
            "Salario director:  1500\n",
            "Introduce el salario del Jefe de Área: 1000\n",
            "Salario Jefe Área:  1000\n",
            "Introduce el salario del administrativo: 500\n",
            "Salario administrativo:  500\n",
            "Algo va mal\n"
          ]
        }
      ]
    },
    {
      "cell_type": "code",
      "source": [
        "print(\"Evaluación de la concesión de ayuda para estudios\")\n",
        "print(\"Se va a evaluar la distancia al centro (> 40 km), si hay más hermanos estudiando en el centro (> 2) y el salario familiar (<= 20000 €)\")\n",
        "\n",
        "distancia_escuela = int(input(\"Introduce la distancia a la escuela en km: \"))\n",
        "print(distancia_escuela)\n",
        "\n",
        "numero_hermanos= int(input(\"Introduce el número de hermanos en el centro: \"))\n",
        "print(numero_hermanos)\n",
        "\n",
        "salario_familiar = int(input(\"Introduce el salario familiar anual bruto: \"))\n",
        "print(salario_familiar)\n",
        "\n",
        "if distancia_escuela > 40 and numero_hermanos > 2 or salario_familiar <= 20000:\n",
        "  print(\"Tiene derecho a beca\")\n",
        "else:\n",
        "  print(\"No tiene derecho a beca\")"
      ],
      "metadata": {
        "colab": {
          "base_uri": "https://localhost:8080/"
        },
        "id": "DNrap5VxOd08",
        "outputId": "579c4440-50ac-44ac-cffb-229f1e8c6d48"
      },
      "execution_count": 7,
      "outputs": [
        {
          "output_type": "stream",
          "name": "stdout",
          "text": [
            "Evaluación de la concesión de ayuda para estudios\n",
            "Se va a evaluar la distancia al centro (> 40 km), si hay más hermanos estudiando en el centro (> 2) y el salario familiar (<= 20000 €)\n",
            "Introduce la distancia a la escuela en km: 50\n",
            "50\n",
            "Introduce el número de hermanos en el centro: 1\n",
            "1\n",
            "Introduce el salario familiar anual bruto: 23800\n",
            "23800\n",
            "No tiene derecho a beca\n"
          ]
        }
      ]
    },
    {
      "cell_type": "code",
      "source": [
        "print(\"Asignaturas optativas 2024\")\n",
        "print(\"Asignaturas optativas: Informática gráfica - Pruebas de software - Usabilidad y accesibilidad\")\n",
        "\n",
        "asignatura = input(\"Escribe la asignatura escogida: \")\n",
        "\n",
        "if asignatura in (\"Informatica gráfica\", \"Pruebas de software\", \"Usabilidad y accesibilidad\"):\n",
        "  print(\"Asgintura elegida: \", asignatura)\n",
        "else:\n",
        "  print(\"La asignatura no está contemplada en las permitidas\")"
      ],
      "metadata": {
        "colab": {
          "base_uri": "https://localhost:8080/"
        },
        "id": "YMcClvNFOdwt",
        "outputId": "7e379e01-be4c-4336-ac3d-2a7225826858"
      },
      "execution_count": 9,
      "outputs": [
        {
          "output_type": "stream",
          "name": "stdout",
          "text": [
            "Asignaturas optativas 2024\n",
            "Asignaturas optativas: Informática gráfica - Pruebas de software - Usabilidad y accesibilidad\n",
            "Escribe la asignatura escogida: caa\n",
            "La asignatura no está contemplada en las permitidas\n"
          ]
        }
      ]
    },
    {
      "cell_type": "code",
      "source": [],
      "metadata": {
        "id": "IpU7I3pnOdoF"
      },
      "execution_count": null,
      "outputs": []
    },
    {
      "cell_type": "markdown",
      "source": [
        "#### Ejercicios de práctica"
      ],
      "metadata": {
        "id": "KPz9jZHmdbym"
      }
    },
    {
      "cell_type": "markdown",
      "source": [
        "##### Ejercicio 1:\n",
        "\n",
        "Crea un programa que pida dos números por teclado.\n",
        "\n",
        "El programa tendrá una función llamada “DevuelveMax” encargada de devolver el número más alto de los dos introducidos"
      ],
      "metadata": {
        "id": "kVwczEz7dfGr"
      }
    },
    {
      "cell_type": "code",
      "source": [
        "print(\"Comparar dos números para averiguar cuál es el máximo\")\n",
        "\n",
        "num_1 = float(input(\"Dime el primer número: \"))\n",
        "num_2 = float(input(\"Dime el segundo número: \"))\n",
        "\n",
        "def DevuelveMax(a,b):\n",
        "# max(a,b)\n",
        "  if a < b:\n",
        "    print(\"El número más alto es: \", b)\n",
        "  elif a > b:\n",
        "    print(\"El número más alto es: \", a)\n",
        "  else:\n",
        "    print(\"Números iguales\")\n",
        "\n",
        "DevuelveMax(num_1,num_2)"
      ],
      "metadata": {
        "colab": {
          "base_uri": "https://localhost:8080/"
        },
        "id": "R3q_XqNxW4DN",
        "outputId": "5944c09a-3c92-4aa8-89bb-019f0e216bf5"
      },
      "execution_count": null,
      "outputs": [
        {
          "output_type": "stream",
          "name": "stdout",
          "text": [
            "Comparar dos números para averiguar cuál es el máximo\n",
            "Dime el primer número: 5\n",
            "Dime el segundo número: 5\n",
            "Números iguales o inexistentes\n"
          ]
        }
      ]
    },
    {
      "cell_type": "markdown",
      "source": [
        "##### Ejercicio 2:\n",
        "\n",
        "Crea un programa que pida por teclado “Nombre”, “Dirección” y “Tfno”.\n",
        "\n",
        "Esos tres datos deberán ser almacenados en una lista y mostrar en consola el mensaje:\n",
        "\n",
        "“Los datospersonales son: nombre apellido teléfono” (Se mostrarán los datos introducidos por teclado)."
      ],
      "metadata": {
        "id": "9uSxkMFAdqvD"
      }
    },
    {
      "cell_type": "code",
      "source": [
        "print(\"Almacenamiento de datos en una lista\")\n",
        "\n",
        "nombre = input(\"Dime tu nombre: \")\n",
        "direccion = input(\"Dime tu dirección: \")\n",
        "telefono = input(\"Dime tu teléfono: \")\n",
        "\n",
        "lista_personal = [nombre, direccion, telefono]\n",
        "\n",
        "print(\"Los datos personales son: \")\n",
        "print(\"Nombre: \", lista_personal[0])\n",
        "print(\"Dirección: \", lista_personal[1])\n",
        "print(\"Teléfono: \", lista_personal[2])\n",
        "\n",
        "print(\"Los datos personales son: \", lista_personal[0], \" \", lista_personal[1], \" \", lista_personal[2])"
      ],
      "metadata": {
        "colab": {
          "base_uri": "https://localhost:8080/"
        },
        "id": "7issBsURW4AF",
        "outputId": "f74b3473-c24d-4683-86d0-ff6678b7dda9"
      },
      "execution_count": null,
      "outputs": [
        {
          "output_type": "stream",
          "name": "stdout",
          "text": [
            "Almacenamiento de datos en una lista\n",
            "Dime tu nombre: dh\n",
            "Dime tu dirección: fgj\n",
            "Dime tu teléfono: fjh\n",
            "Los datos personales son: \n",
            "Nombre:  dh\n",
            "Dirección:  fgj\n",
            "Teléfono:  fjh\n",
            "Los datos personales son:  dh   fgj   fjh\n"
          ]
        }
      ]
    },
    {
      "cell_type": "markdown",
      "source": [
        "##### Ejercicio 3:\n",
        "Crea un programa que pida tres números por teclado.\n",
        "\n",
        "El programa imprime en consola la media aritmética de los números introducidos."
      ],
      "metadata": {
        "id": "qdyrEEGwd0Bz"
      }
    },
    {
      "cell_type": "code",
      "source": [
        "print(\"Media aritmética de tres números\")\n",
        "\n",
        "num_1 = float(input(\"Dime el primer número: \"))\n",
        "num_2 = float(input(\"Dime el segundo número: \"))\n",
        "num_3 = float(input(\"Dime el tercer número: \"))\n",
        "\n",
        "def media_aritmetica(a,b,c):\n",
        "  media = (a++b+c)/3\n",
        "  print(\"La media aritmética es: \", media)\n",
        "\n",
        "media_aritmetica(num_1,num_2,num_3)"
      ],
      "metadata": {
        "colab": {
          "base_uri": "https://localhost:8080/"
        },
        "id": "D4J3gw5rW38s",
        "outputId": "547add06-95dc-4b4c-c37d-56473055556b"
      },
      "execution_count": null,
      "outputs": [
        {
          "output_type": "stream",
          "name": "stdout",
          "text": [
            "Media aritmética de tres números\n",
            "Dime el primer número: 1\n",
            "Dime el segundo número: 5\n",
            "Dime el tercer número: 7\n",
            "La media es:  4.333333333333333\n"
          ]
        }
      ]
    }
  ]
}